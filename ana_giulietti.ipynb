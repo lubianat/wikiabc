{
 "cells": [
  {
   "cell_type": "code",
   "execution_count": 1,
   "metadata": {},
   "outputs": [],
   "source": [
    "import requests\n",
    "import pandas as pd\n",
    "from bs4 import BeautifulSoup\n",
    "from datetime import date, datetime\n",
    "from selenium import webdriver\n",
    "from selenium.webdriver.common.keys import Keys\n",
    "\n",
    "\n",
    "driver = webdriver.Firefox()\n",
    "ordem_url = \"https://canalciencia.ibict.br/noticias/item/237-ordem-nacional-do-merito-cientifico\"\n",
    "driver.get(ordem_url)\n",
    "great_cross_selector = \"#k2Container > div.itemBody > div.itemFullText > p:nth-child(7)\"\n",
    "comendador_selector = \"#k2Container > div.itemBody > div.itemFullText > p:nth-child(11)\"\n",
    "elem_cross = driver.find_element_by_css_selector(great_cross_selector)\n",
    "elem_comendador = driver.find_element_by_css_selector(comendador_selector)\n",
    "\n",
    "great_cross_string = elem_cross.text\n",
    "comendador_string = elem_comendador.text"
   ]
  },
  {
   "cell_type": "code",
   "execution_count": 5,
   "metadata": {},
   "outputs": [],
   "source": [
    "women_abc_df = pd.read_csv(\"women_at_ABC_26_11_2020.csv\")\n",
    "\n",
    "great_cross_women = women_abc_df[[name in great_cross_string for name in women_abc_df[\"name\"]]]\n",
    "comendador_women =  women_abc_df[[name in comendador_string for name in women_abc_df[\"name\"]]]"
   ]
  },
  {
   "cell_type": "code",
   "execution_count": 24,
   "metadata": {},
   "outputs": [],
   "source": [
    "import wikipedia\n",
    "\n",
    "def prepare_df_to_create(base_df):\n",
    "    wikipedia.set_lang(\"pt\")\n",
    "\n",
    "    wiki_dict = {}\n",
    "    for i, row in base_df.iterrows():\n",
    "        print(i)\n",
    "\n",
    "        try:\n",
    "            page = wikipedia.page(row[\"name\"])\n",
    "            wiki = page.url\n",
    "        except:\n",
    "            wiki = \"\"\n",
    "\n",
    "        wiki_dict[row[\"name\"]] = wiki\n",
    "    \n",
    "    base_df[\"wikipedia\"] = base_df[\"name\"].map(wiki_dict)\n",
    "    filter_vector =  [(a == \"\" or \"Lista\" in a) for a in base_df[\"wikipedia\"] ]\n",
    "    base_df = base_df[filter_vector]\n",
    "    return base_df\n"
   ]
  },
  {
   "cell_type": "code",
   "execution_count": 25,
   "metadata": {},
   "outputs": [
    {
     "name": "stdout",
     "output_type": "stream",
     "text": [
      "0\n",
      "10\n",
      "12\n",
      "23\n",
      "25\n",
      "28\n",
      "32\n",
      "37\n",
      "49\n",
      "65\n",
      "79\n",
      "94\n"
     ]
    },
    {
     "name": "stderr",
     "output_type": "stream",
     "text": [
      "/home/lubianat/.local/lib/python3.6/site-packages/ipykernel_launcher.py:18: SettingWithCopyWarning: \n",
      "A value is trying to be set on a copy of a slice from a DataFrame.\n",
      "Try using .loc[row_indexer,col_indexer] = value instead\n",
      "\n",
      "See the caveats in the documentation: https://pandas.pydata.org/pandas-docs/stable/user_guide/indexing.html#returning-a-view-versus-a-copy\n"
     ]
    },
    {
     "name": "stdout",
     "output_type": "stream",
     "text": [
      "0\n",
      "1\n",
      "8\n",
      "10\n",
      "11\n",
      "12\n",
      "19\n",
      "22\n",
      "23\n",
      "29\n",
      "32\n",
      "36\n",
      "38\n",
      "39\n",
      "41\n",
      "47\n",
      "48\n",
      "49\n",
      "51\n",
      "52\n",
      "53\n",
      "54\n",
      "67\n",
      "68\n",
      "72\n",
      "81\n",
      "82\n",
      "86\n",
      "87\n",
      "88\n",
      "90\n",
      "92\n"
     ]
    }
   ],
   "source": [
    "to_create_great_cross = prepare_df_to_create(great_cross_women)\n",
    "to_create_great_cross.to_csv(\"to_create_great_cross_women_16_01_2021.csv\", index=False)\n",
    "to_create_comendador = prepare_df_to_create(comendador_women)\n",
    "to_create_comendador.to_csv(\"to_create_comendador_women_16_01_2021.csv\", index=False)"
   ]
  },
  {
   "cell_type": "code",
   "execution_count": null,
   "metadata": {},
   "outputs": [],
   "source": []
  }
 ],
 "metadata": {
  "kernelspec": {
   "display_name": "Python 3",
   "language": "python",
   "name": "python3"
  },
  "language_info": {
   "codemirror_mode": {
    "name": "ipython",
    "version": 3
   },
   "file_extension": ".py",
   "mimetype": "text/x-python",
   "name": "python",
   "nbconvert_exporter": "python",
   "pygments_lexer": "ipython3",
   "version": "3.6.9"
  }
 },
 "nbformat": 4,
 "nbformat_minor": 4
}
