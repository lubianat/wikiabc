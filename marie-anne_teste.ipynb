{
 "cells": [
  {
   "cell_type": "code",
   "execution_count": 1,
   "metadata": {},
   "outputs": [
    {
     "data": {
      "text/plain": [
       "<Response [200]>"
      ]
     },
     "execution_count": 1,
     "metadata": {},
     "output_type": "execute_result"
    }
   ],
   "source": [
    "import requests\n",
    "\n",
    "wikidata_id = \"Q42565106\"\n",
    "abc_id = \"marie-anne-van-sluys\"\n",
    "page = requests.get(\"http://www.abc.org.br/membro/\" + abc_id)\n",
    "page\n"
   ]
  },
  {
   "cell_type": "code",
   "execution_count": 2,
   "metadata": {},
   "outputs": [],
   "source": [
    "from bs4 import BeautifulSoup\n",
    "soup = BeautifulSoup(page.content, 'html.parser')\n",
    "soup = BeautifulSoup(page.content, 'html.parser')\n",
    "\n"
   ]
  },
  {
   "cell_type": "code",
   "execution_count": 3,
   "metadata": {},
   "outputs": [
    {
     "data": {
      "text/plain": [
       "'http://lattes.cnpq.br/5131787064674647'"
      ]
     },
     "execution_count": 3,
     "metadata": {},
     "output_type": "execute_result"
    }
   ],
   "source": [
    "birth_date = soup.select(\"#page > div.page-content > \\\n",
    "                            div > div > div > div:nth-child(1) > \\\n",
    "                            div.col-lg-6.profile-page > div > \\\n",
    "                            div.excerpt > div:nth-child(1) > span\")[0].text\n",
    "\n",
    "member_date = soup.select(\"#page > div.page-content > \\\n",
    "                            div > div > div > div:nth-child(1) > \\\n",
    "                            div.col-lg-6.profile-page > div > \\\n",
    "                            div.excerpt > div:nth-child(3) > span\")[0].text\n",
    "\n",
    "nacionality = soup.select(\"#page > div.page-content > \\\n",
    "                            div > div > div > div:nth-child(1) > \\\n",
    "                            div.col-lg-6.profile-page > div > \\\n",
    "                            div.excerpt > div:nth-child(2) > span\")[0].text\n",
    "\n",
    "name = soup.select(\"#page > div.page-content > \\\n",
    "                            div > div > div > div:nth-child(1) > \\\n",
    "                            div.col-lg-6.profile-page > div > h2 \"\"\")[0].text\n",
    "\n",
    "field = soup.select(\"#page > div.page-content > \\\n",
    "                            div > div > div > div:nth-child(1) > \\\n",
    "                            div.col-lg-6.profile-page > div > \\\n",
    "                            div.details > strong \"\"\")[0].text\n",
    "\n",
    "title = soup.select(\"head > title\")[0].text\n",
    "\n",
    "membership = soup.select(\"#page > div.page-content > \\\n",
    "                            div > div > div > div:nth-child(1) > \\\n",
    "                            div.col-lg-6.profile-page > div > \\\n",
    "                            div.details \"\"\")[0].text.split(\" | \")[-1].lower()\n",
    "\n",
    "lattes_url = soup.select(\"#page > div.page-content > \\\n",
    "                            div > div > div > div:nth-child(1) > \\\n",
    "                            div.col-lg-6.profile-page > div > \\\n",
    "                            div:nth-child(5) > a \"\"\")[0].get('href')\n",
    "\n",
    "\n",
    "\n",
    "lattes_url"
   ]
  },
  {
   "cell_type": "code",
   "execution_count": 9,
   "metadata": {},
   "outputs": [],
   "source": [
    "from datetime import date, datetime\n",
    "\n",
    "today = date.today()\n",
    "\n",
    "d1 = today.strftime(\"%Y-%m-%d\")\n",
    "\n",
    "wiki_page = \"\"\"{{Info/Biografia/Wikidata}}\n",
    "\n",
    "\"\"\" + f\"\"\"\n",
    "'''{name}''' ({birth_date}) é uma pesquisadora brasileira, {membership} da [[Academia Brasileira de Ciências]] na área de {field} desde {member_date}.\"\"\" \\\n",
    "+ \"\"\"<ref>{{Citar web |url=http://www.abc.org.br/membro/\"\"\" + abc_id + f\"/ |titulo={title} |acessodata={d1} |lingua=pt-BR\" + \"}}</ref>\" + f\"\"\"\n",
    "\n",
    "\n",
    "== Links externos ==\n",
    "\n",
    "* [http://www.abc.org.br/membro/{abc_id}/ Página na Academia Brasileira de Ciências]\n",
    "* [{lattes_url} Currículo na Plataforma Lattes]\n",
    "\n",
    "\"\"\" + \"\"\"\n",
    "\n",
    "{{Referencias}}\n",
    "\n",
    "{{Esboço-cientista}}{{Controle de autoridade}}\n",
    "[[Categoria:Membros da Academia Brasileira de Ciências]]\n",
    "\n",
    "\"\"\"\n",
    "\n",
    "\n",
    "with open(\"wikipage\", \"w+\") as f:\n",
    "    f.write(wiki_page)"
   ]
  },
  {
   "cell_type": "code",
   "execution_count": 12,
   "metadata": {},
   "outputs": [
    {
     "name": "stdout",
     "output_type": "stream",
     "text": [
      "Q42565106|P463|Q2497232|P580|+2017-05-09T00:00:00Z/11|S854|\"http://www.abc.org.br/membro/marie-anne-van-sluys\"\n",
      "Q42565106|P569|+1961-09-03T00:00:00Z/11|S854|\"http://www.abc.org.br/membro/marie-anne-van-sluys\"\n",
      "Q42565106|P1007|\"5131787064674647\"|S854|\"http://www.abc.org.br/membro/marie-anne-van-sluys\"\n",
      "Q42565106|P27|Q155|S854|\"http://www.abc.org.br/membro/marie-anne-van-sluys\"\n"
     ]
    }
   ],
   "source": [
    "birth_object = datetime.strptime(birth_date,\"%d/%m/%Y\")\n",
    "birth_date_wiki = birth_object.strftime(\"+%Y-%m-%dT00:00:00Z/11\")\n",
    "\n",
    "member_object = datetime.strptime(member_date,\"%d/%m/%Y\")\n",
    "member_date_wiki = member_object.strftime(\"+%Y-%m-%dT00:00:00Z/11\")\n",
    "\n",
    "print(f'{wikidata_id}|P463|Q2497232|P580|{member_date_wiki}|S854|\"http://www.abc.org.br/membro/{abc_id}\"')\n",
    "print(f'{wikidata_id}|P569|{birth_date_wiki}|S854|\"http://www.abc.org.br/membro/{abc_id}\"')\n",
    "print(f'{wikidata_id}|P1007|\"{lattes_url.split(\"/\")[-1]}\"|S854|\"http://www.abc.org.br/membro/{abc_id}\"')\n",
    "\n",
    "if nacionality == \"Brasileira\":\n",
    "    print(f'{wikidata_id}|P27|Q155|S854|\"http://www.abc.org.br/membro/{abc_id}\"')"
   ]
  },
  {
   "cell_type": "code",
   "execution_count": null,
   "metadata": {},
   "outputs": [],
   "source": []
  }
 ],
 "metadata": {
  "kernelspec": {
   "display_name": "Python 3",
   "language": "python",
   "name": "python3"
  },
  "language_info": {
   "codemirror_mode": {
    "name": "ipython",
    "version": 3
   },
   "file_extension": ".py",
   "mimetype": "text/x-python",
   "name": "python",
   "nbconvert_exporter": "python",
   "pygments_lexer": "ipython3",
   "version": "3.7.5"
  }
 },
 "nbformat": 4,
 "nbformat_minor": 4
}
