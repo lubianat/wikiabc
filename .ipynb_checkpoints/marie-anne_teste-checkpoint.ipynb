{
 "cells": [
  {
   "cell_type": "code",
   "execution_count": 41,
   "metadata": {},
   "outputs": [
    {
     "data": {
      "text/plain": [
       "<Response [200]>"
      ]
     },
     "execution_count": 41,
     "metadata": {},
     "output_type": "execute_result"
    }
   ],
   "source": [
    "import requests\n",
    "\n",
    "abc_id = \"paulo-hilario-nascimento-saldiva\"\n",
    "page = requests.get(\"http://www.abc.org.br/membro/\" + abc_id)\n",
    "page\n"
   ]
  },
  {
   "cell_type": "code",
   "execution_count": 42,
   "metadata": {},
   "outputs": [],
   "source": [
    "from bs4 import BeautifulSoup\n",
    "soup = BeautifulSoup(page.content, 'html.parser')\n",
    "soup = BeautifulSoup(page.content, 'html.parser')\n",
    "\n"
   ]
  },
  {
   "cell_type": "code",
   "execution_count": 58,
   "metadata": {},
   "outputs": [
    {
     "data": {
      "text/plain": [
       "'membro titular'"
      ]
     },
     "execution_count": 58,
     "metadata": {},
     "output_type": "execute_result"
    }
   ],
   "source": [
    "birth_date = soup.select(\"#page > div.page-content > \\\n",
    "                            div > div > div > div:nth-child(1) > \\\n",
    "                            div.col-lg-6.profile-page > div > \\\n",
    "                            div.excerpt > div:nth-child(1) > span\")[0].text\n",
    "\n",
    "member_date = soup.select(\"#page > div.page-content > \\\n",
    "                            div > div > div > div:nth-child(1) > \\\n",
    "                            div.col-lg-6.profile-page > div > \\\n",
    "                            div.excerpt > div:nth-child(3) > span\")[0].text\n",
    "\n",
    "nacionality = soup.select(\"#page > div.page-content > \\\n",
    "                            div > div > div > div:nth-child(1) > \\\n",
    "                            div.col-lg-6.profile-page > div > \\\n",
    "                            div.excerpt > div:nth-child(2) > span\")[0].text\n",
    "\n",
    "name = soup.select(\"#page > div.page-content > \\\n",
    "                            div > div > div > div:nth-child(1) > \\\n",
    "                            div.col-lg-6.profile-page > div > h2 \"\"\")[0].text\n",
    "\n",
    "field = soup.select(\"#page > div.page-content > \\\n",
    "                            div > div > div > div:nth-child(1) > \\\n",
    "                            div.col-lg-6.profile-page > div > \\\n",
    "                            div.details > strong \"\"\")[0].text\n",
    "\n",
    "title = soup.select(\"head > title\")[0].text\n",
    "\n",
    "membership = soup.select(\"#page > div.page-content > \\\n",
    "                            div > div > div > div:nth-child(1) > \\\n",
    "                            div.col-lg-6.profile-page > div > \\\n",
    "                            div.details \"\"\")[0].text.split(\" | \")[-1].lower()\n",
    "#page > div.page-content > div > div > div > div:nth-child(1) > div.col-lg-6.profile-page > div > div.details > strong\n",
    "membership"
   ]
  },
  {
   "cell_type": "code",
   "execution_count": 69,
   "metadata": {},
   "outputs": [],
   "source": [
    "from datetime import date\n",
    "\n",
    "today = date.today()\n",
    "\n",
    "d1 = today.strftime(\"%Y-%m-%d\")\n",
    "\n",
    "wiki_page = \"\"\"{{Info/Biografia/Wikidata}}\n",
    "\n",
    "\"\"\" + f\"\"\"\n",
    "'''{name}''' ({birth_date}) é um pesquisador brasileiro, {membership} da [[Academia Brasileira de Ciências]] na área de {field}.\"\"\" \\\n",
    "+ \"\"\"<ref>{{Citar web |url=http://www.abc.org.br/membro/\"\"\" + abc_id + f\"/ |titulo={title} |acessodata={d1} |lingua=pt-BR\" + \"}}</ref>\" + f\"\"\"\n",
    "\n",
    "\n",
    "== Links externos ==\n",
    "\n",
    "* [http://www.abc.org.br/membro/{abc_id}/ Página na Academia Brasileira de Ciências]\n",
    "\"\"\" + \"\"\"\n",
    "\n",
    "{{Referencias}}\n",
    "\n",
    "{{Esboço-cientista}}{{Controle de autoridade}}\n",
    "[[Categoria:Membros da Academia Brasileira de Ciências]]\n",
    "\n",
    "\"\"\"\n",
    "\n",
    "\n",
    "with open(\"wikipage\", \"w+\") as f:\n",
    "    f.write(wiki_page)"
   ]
  },
  {
   "cell_type": "code",
   "execution_count": 46,
   "metadata": {},
   "outputs": [
    {
     "name": "stdout",
     "output_type": "stream",
     "text": [
      "d1 = 2020-11-09\n"
     ]
    }
   ],
   "source": [
    "\n",
    "print(\"d1 =\", d1)"
   ]
  },
  {
   "cell_type": "code",
   "execution_count": null,
   "metadata": {},
   "outputs": [],
   "source": [
    "`"
   ]
  }
 ],
 "metadata": {
  "kernelspec": {
   "display_name": "Python 3",
   "language": "python",
   "name": "python3"
  },
  "language_info": {
   "codemirror_mode": {
    "name": "ipython",
    "version": 3
   },
   "file_extension": ".py",
   "mimetype": "text/x-python",
   "name": "python",
   "nbconvert_exporter": "python",
   "pygments_lexer": "ipython3",
   "version": "3.7.5"
  }
 },
 "nbformat": 4,
 "nbformat_minor": 4
}
