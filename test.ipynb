{
 "metadata": {
  "language_info": {
   "codemirror_mode": {
    "name": "ipython",
    "version": 3
   },
   "file_extension": ".py",
   "mimetype": "text/x-python",
   "name": "python",
   "nbconvert_exporter": "python",
   "pygments_lexer": "ipython3",
   "version": 3
  },
  "orig_nbformat": 2
 },
 "nbformat": 4,
 "nbformat_minor": 2,
 "cells": [
  {
   "cell_type": "code",
   "execution_count": 37,
   "metadata": {},
   "outputs": [],
   "source": [
    "from scrape_abc import utils"
   ]
  },
  {
   "cell_type": "code",
   "execution_count": 38,
   "metadata": {},
   "outputs": [],
   "source": [
    "abc_page = utils.AbcPage(\"http://www.abc.org.br/membro/alaide-braga-de-oliveira/\")"
   ]
  },
  {
   "cell_type": "code",
   "execution_count": 39,
   "metadata": {},
   "outputs": [],
   "source": [
    "abc_page.get_info()"
   ]
  },
  {
   "cell_type": "code",
   "execution_count": 40,
   "metadata": {},
   "outputs": [],
   "source": [
    "abc_page.write_wikipage()"
   ]
  },
  {
   "cell_type": "code",
   "execution_count": 41,
   "metadata": {},
   "outputs": [
    {
     "output_type": "stream",
     "name": "stdout",
     "text": [
      "Q101799149|P463|Q2497232|P580|+1977-04-19T00:00:00Z/11|S854|\"http://www.abc.org.br/membro/alaide-braga-de-oliveira/\"\nQ101799149|P569|+1941-03-10T00:00:00Z/11|S854|\"http://www.abc.org.br/membro/alaide-braga-de-oliveira/\"\nQ101799149|P1007|\"3719659803766075\"|S854|\"http://www.abc.org.br/membro/alaide-braga-de-oliveira/\"\nQ101799149|P27|Q155|S854|\"http://www.abc.org.br/membro/alaide-braga-de-oliveira/\"\n"
     ]
    }
   ],
   "source": [
    "abc_page.print_qs(\"Q101799149\")"
   ]
  },
  {
   "cell_type": "code",
   "execution_count": 42,
   "metadata": {},
   "outputs": [],
   "source": [
    "import requests\n",
    "from bs4 import BeautifulSoup\n",
    "\n",
    "def get_members(url):\n",
    "    r = requests.get(url)\n",
    "    html_content = r.text\n",
    "    soup = BeautifulSoup(html_content, 'lxml')\n",
    "    links = soup.find_all('a')\n",
    "    links = [a.get('href') for a in soup.find_all('a', href=True)]\n",
    "    membersordem_nacional_member_urls = {}\n",
    "    \n",
    "    for link in links:\n",
    "        = [link for link in links if \"http://www.abc.org.br/membro/\" in link]\n",
    "    \n",
    "    return(members)\n",
    "\n",
    "\n"
   ]
  },
  {
   "cell_type": "code",
   "execution_count": 43,
   "metadata": {},
   "outputs": [
    {
     "output_type": "stream",
     "name": "stdout",
     "text": [
      "1\n",
      "2\n",
      "3\n",
      "4\n",
      "5\n",
      "6\n",
      "7\n",
      "8\n",
      "9\n",
      "10\n",
      "11\n",
      "12\n"
     ]
    }
   ],
   "source": [
    "all_members = []\n",
    "for i in range(1,13):\n",
    "    print(i)\n",
    "    url = f'http://www.abc.org.br/membros/page/{str(i)}/?busca_membro_nome&busca_membro_genero=Feminino&busca_membro_datanascimento_mes&busca_membro_datanascimento_ano&busca_membro_areapesquisa&busca_membro_membrodesde_mes&busca_membro_membrodesde_ano&busca_membro_nacionalidade&busca_membro_regiao&busca_membro_categoria=titular' \n",
    "    members = get_members(url)\n",
    "    all_members.extend(members)"
   ]
  },
  {
   "cell_type": "code",
   "execution_count": 44,
   "metadata": {},
   "outputs": [
    {
     "output_type": "execute_result",
     "data": {
      "text/plain": [
       "'http://www.abc.org.br/membro/angela-terezinha-de-souza-wyse/'"
      ]
     },
     "metadata": {},
     "execution_count": 44
    }
   ],
   "source": [
    "\n",
    "i = 7\n",
    "\n",
    "url_now  = all_members[i]\n",
    "all_members[i]"
   ]
  },
  {
   "cell_type": "code",
   "execution_count": 45,
   "metadata": {},
   "outputs": [],
   "source": [
    "abc_page = utils.AbcPage(url_now)\n",
    "abc_page.get_info()\n",
    "abc_page.write_wikipage()"
   ]
  },
  {
   "cell_type": "code",
   "execution_count": 46,
   "metadata": {},
   "outputs": [
    {
     "output_type": "stream",
     "name": "stdout",
     "text": [
      "Q64495879|P463|Q2497232|P580|+2016-05-04T00:00:00Z/11|S854|\"http://www.abc.org.br/membro/angela-terezinha-de-souza-wyse/\"\nQ64495879|P569|+1958-05-26T00:00:00Z/11|S854|\"http://www.abc.org.br/membro/angela-terezinha-de-souza-wyse/\"\nQ64495879|P1007|\"8178867411563243\"|S854|\"http://www.abc.org.br/membro/angela-terezinha-de-souza-wyse/\"\nQ64495879|P27|Q155|S854|\"http://www.abc.org.br/membro/angela-terezinha-de-souza-wyse/\"\n"
     ]
    }
   ],
   "source": [
    "abc_page.print_qs(\"Q64495879\")"
   ]
  },
  {
   "cell_type": "code",
   "execution_count": 47,
   "metadata": {},
   "outputs": [
    {
     "output_type": "stream",
     "name": "stdout",
     "text": [
      "Defaulting to user installation because normal site-packages is not writeable\n",
      "Requirement already satisfied: selenium in /home/lubianat/.local/lib/python3.7/site-packages (3.141.0)\n",
      "Requirement already satisfied: urllib3 in /home/lubianat/.local/lib/python3.7/site-packages (from selenium) (1.24.3)\n"
     ]
    }
   ],
   "source": [
    "ordem_url = \"https://web.archive.org/web/20070213055821/http://www.mct.gov.br/index.php/content/view/11199.html?area=allAreas&categoria=allMembros\"\n",
    "\n",
    "\n",
    "!pip3 install selenium\n",
    "\n"
   ]
  },
  {
   "source": [
    "The list seems to be script-generated. It might need some scraping using pupeteer or other headless browser system.\n"
   ],
   "cell_type": "markdown",
   "metadata": {}
  },
  {
   "cell_type": "code",
   "execution_count": 50,
   "metadata": {},
   "outputs": [],
   "source": [
    "from selenium import webdriver\n",
    "from selenium.webdriver.common.keys import Keys\n"
   ]
  },
  {
   "cell_type": "code",
   "execution_count": 51,
   "metadata": {},
   "outputs": [],
   "source": [
    "\n",
    "driver = webdriver.Firefox()"
   ]
  },
  {
   "cell_type": "code",
   "execution_count": 52,
   "metadata": {},
   "outputs": [],
   "source": [
    "driver.get(ordem_url)\n",
    "\n",
    "table_selector = \"#layerConteudo > table:nth-child(1) > tbody:nth-child(1) > tr:nth-child(1) > td:nth-child(1) > table:nth-child(2)\"\n",
    "\n",
    "elem = driver.find_element_by_css_selector(table_selector)\n"
   ]
  },
  {
   "cell_type": "code",
   "execution_count": 53,
   "metadata": {},
   "outputs": [],
   "source": [
    "import requests\n",
    "from bs4 import BeautifulSoup\n",
    "\n",
    "soup = BeautifulSoup(elem.get_attribute('innerHTML'))\n"
   ]
  },
  {
   "cell_type": "code",
   "execution_count": 58,
   "metadata": {},
   "outputs": [],
   "source": [
    "links = soup.find_all('a')\n",
    "links[0].text\n"
   ]
  },
  {
   "cell_type": "code",
   "execution_count": 72,
   "metadata": {},
   "outputs": [],
   "source": [
    "ordem_nacional_member_urls = {}\n",
    "\n",
    "for link in links:\n",
    "    ordem_nacional_member_urls[link.text] = link[\"href\"]"
   ]
  },
  {
   "cell_type": "code",
   "execution_count": 76,
   "metadata": {},
   "outputs": [
    {
     "output_type": "stream",
     "name": "stdout",
     "text": [
      "Q102136512|P463|Q2497232|P580|+1996-05-24T00:00:00Z/11|S854|\"http://www.abc.org.br/membro/antoniana-ursine-krettli/\"\nQ102136512|P569|+1943-09-23T00:00:00Z/11|S854|\"http://www.abc.org.br/membro/antoniana-ursine-krettli/\"\nQ102136512|P1007|\"8060514879935984\"|S854|\"http://www.abc.org.br/membro/antoniana-ursine-krettli/\"\nQ102136512|P27|Q155|S854|\"http://www.abc.org.br/membro/antoniana-ursine-krettli/\"\n"
     ]
    }
   ],
   "source": [
    "url = 'http://www.abc.org.br/membro/antoniana-ursine-krettli/'\n",
    "abc_page = utils.AbcPage(url)\n",
    "abc_page.get_info()\n",
    "abc_page.write_wikipage()\n",
    "abc_page.print_qs(\"Q102136512\")"
   ]
  },
  {
   "cell_type": "code",
   "execution_count": 77,
   "metadata": {},
   "outputs": [
    {
     "output_type": "stream",
     "name": "stdout",
     "text": [
      "http://www.abc.org.br/sjbic/curriculo.asp?consulta=akrettli\n\n    \nFoi condecorada na Ordem Nacional do Mérito Científico. <ref>{{Citar web |url=https://web.archive.org/web/20070213055821/http://www.mct.gov.br/index.php/content/view/11199.html?area=allAreas&categoria=allMembros |titulo=Ministério da Ciência & Tecnologia |data=2007-02-13 |acessodata=2020-11-20 |website=web.archive.org}}</ref>   \n    \n    \n"
     ]
    }
   ],
   "source": [
    "if abc_page.name in ordem_nacional_member_urls:\n",
    "    print(ordem_nacional_member_urls[abc_page.name])\n",
    "    print(\"\"\"\n",
    "    \n",
    "Foi condecorada na Ordem Nacional do Mérito Científico. <ref>{{Citar web |url=https://web.archive.org/web/20070213055821/http://www.mct.gov.br/index.php/content/view/11199.html?area=allAreas&categoria=allMembros |titulo=Ministério da Ciência & Tecnologia |data=2007-02-13 |acessodata=2020-11-20 |website=web.archive.org}}</ref>   \n",
    "    \n",
    "    \"\"\")"
   ]
  },
  {
   "cell_type": "code",
   "execution_count": null,
   "metadata": {},
   "outputs": [],
   "source": []
  }
 ]
}