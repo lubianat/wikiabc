{
 "metadata": {
  "language_info": {
   "codemirror_mode": {
    "name": "ipython",
    "version": 3
   },
   "file_extension": ".py",
   "mimetype": "text/x-python",
   "name": "python",
   "nbconvert_exporter": "python",
   "pygments_lexer": "ipython3",
   "version": 3
  },
  "orig_nbformat": 2
 },
 "nbformat": 4,
 "nbformat_minor": 2,
 "cells": [
  {
   "cell_type": "code",
   "execution_count": 1,
   "metadata": {},
   "outputs": [],
   "source": [
    "import pandas as pd \n",
    "from scrape_abc import utils"
   ]
  },
  {
   "cell_type": "code",
   "execution_count": 2,
   "metadata": {},
   "outputs": [],
   "source": [
    "df = pd.read_csv(\"women_at_abc_and_onmc_df_26_11_2020.csv\")\n"
   ]
  },
  {
   "cell_type": "code",
   "execution_count": 4,
   "metadata": {},
   "outputs": [
    {
     "output_type": "error",
     "ename": "NameError",
     "evalue": "name 'woman_abc_onc_df' is not defined",
     "traceback": [
      "\u001b[0;31m---------------------------------------------------------------------------\u001b[0m",
      "\u001b[0;31mNameError\u001b[0m                                 Traceback (most recent call last)",
      "\u001b[0;32m<ipython-input-4-31e295d872ae>\u001b[0m in \u001b[0;36m<module>\u001b[0;34m\u001b[0m\n\u001b[1;32m     17\u001b[0m \u001b[0mdf\u001b[0m\u001b[0;34m\u001b[0m\u001b[0;34m\u001b[0m\u001b[0m\n\u001b[1;32m     18\u001b[0m \u001b[0;34m\u001b[0m\u001b[0m\n\u001b[0;32m---> 19\u001b[0;31m \u001b[0mto_create\u001b[0m \u001b[0;34m=\u001b[0m \u001b[0mdf\u001b[0m\u001b[0;34m[\u001b[0m\u001b[0mwoman_abc_onc_df\u001b[0m\u001b[0;34m[\u001b[0m\u001b[0;34m\"wikipedia\"\u001b[0m\u001b[0;34m]\u001b[0m \u001b[0;34m==\u001b[0m \u001b[0;34m\"\"\u001b[0m\u001b[0;34m]\u001b[0m\u001b[0;34m\u001b[0m\u001b[0;34m\u001b[0m\u001b[0m\n\u001b[0m\u001b[1;32m     20\u001b[0m \u001b[0mto_create\u001b[0m\u001b[0;34m\u001b[0m\u001b[0;34m\u001b[0m\u001b[0m\n",
      "\u001b[0;31mNameError\u001b[0m: name 'woman_abc_onc_df' is not defined"
     ]
    }
   ],
   "source": [
    "import wikipedia\n",
    "wikipedia.set_lang(\"pt\")\n",
    "\n",
    "wiki_dict = {}\n",
    "for i, row in df.iterrows():\n",
    "\n",
    "    try:\n",
    "        page = wikipedia.page(row[\"name\"])\n",
    "        wiki = page.url\n",
    "    except:\n",
    "        wiki = \"\"\n",
    "\n",
    "    wiki_dict[row[\"name\"]] = wiki\n",
    "\n",
    "\n",
    "df[\"wikipedia\"] = df[\"name\"].map(wiki_dict)\n",
    "df\n"
   ]
  },
  {
   "cell_type": "code",
   "execution_count": 5,
   "metadata": {},
   "outputs": [
    {
     "output_type": "execute_result",
     "data": {
      "text/plain": [
       "    Unnamed: 0  Unnamed: 0_x                     name  \\\n",
       "12          12            39             Lourdes Sola   \n",
       "16          16            71  Nanuza Luiza de Menezes   \n",
       "19          19            82         Shirley Schreier   \n",
       "\n",
       "                                                url_x  Unnamed: 0_y  \\\n",
       "12         http://www.abc.org.br/membro/lourdes-sola/           396   \n",
       "16  http://www.abc.org.br/membro/nanuza-luiza-de-m...           493   \n",
       "19     http://www.abc.org.br/membro/shirley-schreier/           609   \n",
       "\n",
       "                                                url_y wikipedia  \n",
       "12  http://www.abc.org.br/sjbic/curriculo.asp?cons...            \n",
       "16  http://www.abc.org.br/sjbic/curriculo.asp?cons...            \n",
       "19  http://www.abc.org.br/sjbic/curriculo.asp?cons...            "
      ],
      "text/html": "<div>\n<style scoped>\n    .dataframe tbody tr th:only-of-type {\n        vertical-align: middle;\n    }\n\n    .dataframe tbody tr th {\n        vertical-align: top;\n    }\n\n    .dataframe thead th {\n        text-align: right;\n    }\n</style>\n<table border=\"1\" class=\"dataframe\">\n  <thead>\n    <tr style=\"text-align: right;\">\n      <th></th>\n      <th>Unnamed: 0</th>\n      <th>Unnamed: 0_x</th>\n      <th>name</th>\n      <th>url_x</th>\n      <th>Unnamed: 0_y</th>\n      <th>url_y</th>\n      <th>wikipedia</th>\n    </tr>\n  </thead>\n  <tbody>\n    <tr>\n      <th>12</th>\n      <td>12</td>\n      <td>39</td>\n      <td>Lourdes Sola</td>\n      <td>http://www.abc.org.br/membro/lourdes-sola/</td>\n      <td>396</td>\n      <td>http://www.abc.org.br/sjbic/curriculo.asp?cons...</td>\n      <td></td>\n    </tr>\n    <tr>\n      <th>16</th>\n      <td>16</td>\n      <td>71</td>\n      <td>Nanuza Luiza de Menezes</td>\n      <td>http://www.abc.org.br/membro/nanuza-luiza-de-m...</td>\n      <td>493</td>\n      <td>http://www.abc.org.br/sjbic/curriculo.asp?cons...</td>\n      <td></td>\n    </tr>\n    <tr>\n      <th>19</th>\n      <td>19</td>\n      <td>82</td>\n      <td>Shirley Schreier</td>\n      <td>http://www.abc.org.br/membro/shirley-schreier/</td>\n      <td>609</td>\n      <td>http://www.abc.org.br/sjbic/curriculo.asp?cons...</td>\n      <td></td>\n    </tr>\n  </tbody>\n</table>\n</div>"
     },
     "metadata": {},
     "execution_count": 5
    }
   ],
   "source": [
    "\n",
    "to_create = df[df[\"wikipedia\"] == \"\"]\n",
    "to_create"
   ]
  },
  {
   "cell_type": "code",
   "execution_count": 6,
   "metadata": {},
   "outputs": [
    {
     "output_type": "stream",
     "name": "stdout",
     "text": [
      "\n    \nFoi condecorada na Ordem Nacional do Mérito Científico. <ref>{{Citar web |url=https://web.archive.org/web/20070213055821/http://www.mct.gov.br/index.php/content/view/11199.html?area=allAreas&categoria=allMembros |titulo=Ministério da Ciência & Tecnologia |data=2007-02-13 |acessodata=2020-11-20 |website=web.archive.org}}</ref>   \n    \n    \n"
     ]
    }
   ],
   "source": [
    "for i, row in to_create.iterrows():\n",
    "    url = row[\"url_x\"]\n",
    "    name = row[\"name\"]\n",
    "    abc_page = utils.AbcPage(url)\n",
    "    abc_page.get_info()\n",
    "    abc_page.write_wikipage() \n",
    "    \n",
    "    print(\"\"\"\n",
    "    \n",
    "Foi condecorada na Ordem Nacional do Mérito Científico. <ref>{{Citar web |url=https://web.archive.org/web/20070213055821/http://www.mct.gov.br/index.php/content/view/11199.html?area=allAreas&categoria=allMembros |titulo=Ministério da Ciência & Tecnologia |data=2007-02-13 |acessodata=2020-11-20 |website=web.archive.org}}</ref>   \n",
    "    \n",
    "    \"\"\")\n",
    "    break\n"
   ]
  },
  {
   "cell_type": "code",
   "execution_count": null,
   "metadata": {},
   "outputs": [],
   "source": [
    "qid = \"Q92363363\"\n",
    "abc_page.print_qs(qid)\n",
    "print(f'{qid}|P166|Q3132815|P580|+1994-04-08T00:00:00Z/11|S854|\"https://web.archive.org/web/20070213055821/http://www.mct.gov.br/index.php/content/view/11199.html?area=allAreas&categoria=allMembros\"')"
   ]
  }
 ]
}