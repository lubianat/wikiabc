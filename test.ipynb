{
 "metadata": {
  "language_info": {
   "codemirror_mode": {
    "name": "ipython",
    "version": 3
   },
   "file_extension": ".py",
   "mimetype": "text/x-python",
   "name": "python",
   "nbconvert_exporter": "python",
   "pygments_lexer": "ipython3",
   "version": 3
  },
  "orig_nbformat": 2
 },
 "nbformat": 4,
 "nbformat_minor": 2,
 "cells": [
  {
   "cell_type": "code",
   "execution_count": 2,
   "metadata": {},
   "outputs": [],
   "source": [
    "from scrape_abc import utils"
   ]
  },
  {
   "cell_type": "code",
   "execution_count": 3,
   "metadata": {},
   "outputs": [],
   "source": [
    "abc_page = utils.AbcPage(\"http://www.abc.org.br/membro/alaide-braga-de-oliveira/\")"
   ]
  },
  {
   "cell_type": "code",
   "execution_count": 4,
   "metadata": {},
   "outputs": [],
   "source": [
    "abc_page.get_info()"
   ]
  },
  {
   "cell_type": "code",
   "execution_count": 5,
   "metadata": {},
   "outputs": [],
   "source": [
    "abc_page.write_wikipage()"
   ]
  },
  {
   "cell_type": "code",
   "execution_count": 5,
   "metadata": {},
   "outputs": [
    {
     "output_type": "stream",
     "name": "stdout",
     "text": [
      "Q101799149|P463|Q2497232|P580|+1977-04-19T00:00:00Z/11|S854|\"http://www.abc.org.br/membro/alaide-braga-de-oliveira/\"\nQ101799149|P569|+1941-03-10T00:00:00Z/11|S854|\"http://www.abc.org.br/membro/alaide-braga-de-oliveira/\"\nQ101799149|P1007|\"3719659803766075\"|S854|\"http://www.abc.org.br/membro/alaide-braga-de-oliveira/\"\nQ101799149|P27|Q155|S854|\"http://www.abc.org.br/membro/alaide-braga-de-oliveira/\"\n"
     ]
    }
   ],
   "source": [
    "abc_page.print_qs(\"Q101799149\")"
   ]
  },
  {
   "cell_type": "code",
   "execution_count": null,
   "metadata": {},
   "outputs": [],
   "source": []
  }
 ]
}