{
 "metadata": {
  "language_info": {
   "codemirror_mode": {
    "name": "ipython",
    "version": 3
   },
   "file_extension": ".py",
   "mimetype": "text/x-python",
   "name": "python",
   "nbconvert_exporter": "python",
   "pygments_lexer": "ipython3",
   "version": 3
  },
  "orig_nbformat": 2
 },
 "nbformat": 4,
 "nbformat_minor": 2,
 "cells": [
  {
   "cell_type": "code",
   "execution_count": 1,
   "metadata": {},
   "outputs": [],
   "source": [
    "from scrape_abc import utils"
   ]
  },
  {
   "cell_type": "code",
   "execution_count": 2,
   "metadata": {},
   "outputs": [],
   "source": [
    "import requests\n",
    "from bs4 import BeautifulSoup\n",
    "\n",
    "def get_members(url):\n",
    "   \n",
    "    \"\"\"\n",
    "\n",
    "    Returns\n",
    "\n",
    "      members: A dict of ABC members and their URLs in ABC\n",
    "      \n",
    "    \"\"\"\n",
    "    r = requests.get(url)\n",
    "    html_content = r.text\n",
    "    soup = BeautifulSoup(html_content, 'lxml')\n",
    "    links = soup.find_all('a')\n",
    "    links = [a.get('href') for a in soup.find_all('a', href=True)]\n",
    "    membersordem_nacional_member_urls = {}\n",
    "    members = []\n",
    "    for link in links:\n",
    "       members = [link for link in links if \"http://www.abc.org.br/membro/\" in link]\n",
    "    \n",
    "    return(members)\n",
    "\n",
    "\n"
   ]
  },
  {
   "cell_type": "code",
   "execution_count": 8,
   "metadata": {},
   "outputs": [],
   "source": [
    "i = 1 \n",
    "url = f'http://www.abc.org.br/membros/page/{str(i)}/?busca_membro_nome&busca_membro_genero=Feminino&busca_membro_datanascimento_mes&busca_membro_datanascimento_ano&busca_membro_areapesquisa&busca_membro_membrodesde_mes&busca_membro_membrodesde_ano&busca_membro_nacionalidade&busca_membro_regiao&busca_membro_categoria=titular'\n",
    "\n",
    "r = requests.get(url)\n",
    "html_content = r.text\n",
    "soup = BeautifulSoup(html_content, 'lxml')\n",
    "links = soup.find_all('a')\n"
   ]
  },
  {
   "cell_type": "code",
   "execution_count": 17,
   "metadata": {},
   "outputs": [
    {
     "output_type": "execute_result",
     "data": {
      "text/plain": [
       "{'Alaíde Braga de Oliveira': 'http://www.abc.org.br/membro/alaide-braga-de-oliveira/',\n",
       " 'Aldina Maria Prado Barral': 'http://www.abc.org.br/membro/aldina-maria-prado-barral/',\n",
       " 'Alicia Juliana Kowaltowski': 'http://www.abc.org.br/membro/alicia-juliana-kowaltowski-2/',\n",
       " 'Ana Claudia Latronico': 'http://www.abc.org.br/membro/ana-claudia-latronico/',\n",
       " 'Ana Maria Giulietti Harley': 'http://www.abc.org.br/membro/ana-maria-giulietti-harley/',\n",
       " 'Angela de Luca Rebello Wagener': 'http://www.abc.org.br/membro/angela-de-luca-rebello-wagener/',\n",
       " 'Angela Maria Vianna Morgante': 'http://www.abc.org.br/membro/angela-maria-vianna-morgante/',\n",
       " 'Angela Terezinha de Souza Wyse': 'http://www.abc.org.br/membro/angela-terezinha-de-souza-wyse/'}"
      ]
     },
     "metadata": {},
     "execution_count": 17
    }
   ],
   "source": [
    "link_urls = [a.get('href') for a in soup.find_all('a', href=True)]\n",
    "member_urls = []\n",
    "for link in links:\n",
    "    member_urls = [link for link in link_urls if \"http://www.abc.org.br/membro/\" in link]\n",
    "\n",
    "headers = [a.text for a in  soup.find_all('h2')]\n",
    "\n",
    "members = {}\n",
    "\n",
    "for i, value in enumerate(headers):\n",
    "    members[value] = member_urls[i]\n",
    "members"
   ]
  },
  {
   "cell_type": "code",
   "execution_count": 15,
   "metadata": {},
   "outputs": [],
   "source": []
  },
  {
   "cell_type": "code",
   "execution_count": 12,
   "metadata": {},
   "outputs": [
    {
     "output_type": "stream",
     "name": "stdout",
     "text": [
      "1\n",
      "2\n",
      "3\n",
      "4\n",
      "5\n",
      "6\n",
      "7\n",
      "8\n",
      "9\n",
      "10\n",
      "11\n",
      "12\n"
     ]
    }
   ],
   "source": [
    "all_members = []\n",
    "for i in range(1,13):\n",
    "    print(i)\n",
    "    url = f'http://www.abc.org.br/membros/page/{str(i)}/?busca_membro_nome&busca_membro_genero=Feminino&busca_membro_datanascimento_mes&busca_membro_datanascimento_ano&busca_membro_areapesquisa&busca_membro_membrodesde_mes&busca_membro_membrodesde_ano&busca_membro_nacionalidade&busca_membro_regiao&busca_membro_categoria=titular' \n",
    "    members = get_members(url)\n",
    "    all_members.extend(members)"
   ]
  },
  {
   "cell_type": "code",
   "execution_count": 13,
   "metadata": {},
   "outputs": [
    {
     "output_type": "execute_result",
     "data": {
      "text/plain": [
       "'http://www.abc.org.br/membro/angela-terezinha-de-souza-wyse/'"
      ]
     },
     "metadata": {},
     "execution_count": 13
    }
   ],
   "source": [
    "\n",
    "i = 7\n",
    "\n",
    "url_now  = all_members[i]\n",
    "all_members[i]"
   ]
  },
  {
   "cell_type": "code",
   "execution_count": 14,
   "metadata": {},
   "outputs": [],
   "source": [
    "abc_page = utils.AbcPage(url_now)\n",
    "abc_page.get_info()\n",
    "abc_page.write_wikipage()"
   ]
  },
  {
   "cell_type": "code",
   "execution_count": 15,
   "metadata": {},
   "outputs": [
    {
     "output_type": "stream",
     "name": "stdout",
     "text": [
      "Q64495879|P463|Q2497232|P580|+2016-05-04T00:00:00Z/11|S854|\"http://www.abc.org.br/membro/angela-terezinha-de-souza-wyse/\"\nQ64495879|P569|+1958-05-26T00:00:00Z/11|S854|\"http://www.abc.org.br/membro/angela-terezinha-de-souza-wyse/\"\nQ64495879|P1007|\"8178867411563243\"|S854|\"http://www.abc.org.br/membro/angela-terezinha-de-souza-wyse/\"\nQ64495879|P27|Q155|S854|\"http://www.abc.org.br/membro/angela-terezinha-de-souza-wyse/\"\n"
     ]
    }
   ],
   "source": [
    "abc_page.print_qs(\"Q64495879\")"
   ]
  },
  {
   "cell_type": "code",
   "execution_count": 4,
   "metadata": {},
   "outputs": [],
   "source": [
    "from selenium import webdriver\n",
    "from selenium.webdriver.common.keys import Keys\n",
    "import requests\n",
    "from bs4 import BeautifulSoup\n"
   ]
  },
  {
   "cell_type": "code",
   "execution_count": 5,
   "metadata": {},
   "outputs": [],
   "source": [
    "\n",
    "driver = webdriver.Firefox()\n",
    "ordem_url = \"https://web.archive.org/web/20070213055821/http://www.mct.gov.br/index.php/content/view/11199.html?area=allAreas&categoria=allMembros\"\n",
    "\n",
    "driver.get(ordem_url)\n",
    "\n",
    "table_selector = \"#layerConteudo > table:nth-child(1) > tbody:nth-child(1) > tr:nth-child(1) > td:nth-child(1) > table:nth-child(2)\"\n",
    "\n",
    "elem = driver.find_element_by_css_selector(table_selector)"
   ]
  },
  {
   "cell_type": "code",
   "execution_count": 6,
   "metadata": {},
   "outputs": [
    {
     "output_type": "execute_result",
     "data": {
      "text/plain": [
       "'Abdus Salam'"
      ]
     },
     "metadata": {},
     "execution_count": 6
    }
   ],
   "source": [
    "\n",
    "soup = BeautifulSoup(elem.get_attribute('innerHTML'))\n",
    "links = soup.find_all('a')\n",
    "links[0].text\n"
   ]
  },
  {
   "cell_type": "code",
   "execution_count": 7,
   "metadata": {},
   "outputs": [],
   "source": [
    "ordem_nacional_member_urls = {}\n",
    "\n",
    "for link in links:\n",
    "    ordem_nacional_member_urls[link.text] = link[\"href\"]"
   ]
  },
  {
   "cell_type": "code",
   "execution_count": 8,
   "metadata": {},
   "outputs": [
    {
     "output_type": "stream",
     "name": "stdout",
     "text": [
      "No lattes URL.\nQ98381133|P463|Q2497232|P580|+1994-04-08T00:00:00Z/11|S854|\"http://www.abc.org.br/membro/conceicao-ribeiro-da-silva-machado/\"\nQ98381133|P569|+1936-09-16T00:00:00Z/11|S854|\"http://www.abc.org.br/membro/conceicao-ribeiro-da-silva-machado/\"\nQ98381133|P27|Q155|S854|\"http://www.abc.org.br/membro/conceicao-ribeiro-da-silva-machado/\"\n"
     ]
    }
   ],
   "source": [
    "from scrape_abc import utils\n",
    "url = 'http://www.abc.org.br/membro/conceicao-ribeiro-da-silva-machado/'\n",
    "abc_page = utils.AbcPage(url)\n",
    "abc_page.get_info()\n",
    "abc_page.write_wikipage()\n",
    "abc_page.print_qs(\"Q98381133\")"
   ]
  },
  {
   "cell_type": "code",
   "execution_count": 9,
   "metadata": {},
   "outputs": [
    {
     "output_type": "stream",
     "name": "stdout",
     "text": [
      "No lattes URL.\n"
     ]
    }
   ],
   "source": [
    "abc_page.get_info()\n"
   ]
  },
  {
   "cell_type": "code",
   "execution_count": 10,
   "metadata": {},
   "outputs": [
    {
     "output_type": "stream",
     "name": "stdout",
     "text": [
      "http://www.abc.org.br/sjbic/curriculo.asp?consulta=cmachado\n\n    \nFoi condecorada na Ordem Nacional do Mérito Científico. <ref>{{Citar web |url=https://web.archive.org/web/20070213055821/http://www.mct.gov.br/index.php/content/view/11199.html?area=allAreas&categoria=allMembros |titulo=Ministério da Ciência & Tecnologia |data=2007-02-13 |acessodata=2020-11-20 |website=web.archive.org}}</ref>   \n    \n    \nQ98381133|P166|Q3132815|P580|+1994-04-08T00:00:00Z/11|S854|\"https://web.archive.org/web/20070213055821/http://www.mct.gov.br/index.php/content/view/11199.html?area=allAreas&categoria=allMembros\"\n"
     ]
    }
   ],
   "source": [
    "if abc_page.name in ordem_nacional_member_urls:\n",
    "    print(ordem_nacional_member_urls[abc_page.name])\n",
    "    print(\"\"\"\n",
    "    \n",
    "Foi condecorada na Ordem Nacional do Mérito Científico. <ref>{{Citar web |url=https://web.archive.org/web/20070213055821/http://www.mct.gov.br/index.php/content/view/11199.html?area=allAreas&categoria=allMembros |titulo=Ministério da Ciência & Tecnologia |data=2007-02-13 |acessodata=2020-11-20 |website=web.archive.org}}</ref>   \n",
    "    \n",
    "    \"\"\")\n",
    "\n",
    "    print('Q98381133|P166|Q3132815|P580|+1994-04-08T00:00:00Z/11|S854|\"https://web.archive.org/web/20070213055821/http://www.mct.gov.br/index.php/content/view/11199.html?area=allAreas&categoria=allMembros\"')"
   ]
  }
 ]
}