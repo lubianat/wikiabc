{
 "metadata": {
  "language_info": {
   "codemirror_mode": {
    "name": "ipython",
    "version": 3
   },
   "file_extension": ".py",
   "mimetype": "text/x-python",
   "name": "python",
   "nbconvert_exporter": "python",
   "pygments_lexer": "ipython3",
   "version": 3
  },
  "orig_nbformat": 2
 },
 "nbformat": 4,
 "nbformat_minor": 2,
 "cells": [
  {
   "cell_type": "code",
   "execution_count": 1,
   "metadata": {},
   "outputs": [],
   "source": [
    "from scrape_abc import utils"
   ]
  },
  {
   "cell_type": "code",
   "execution_count": null,
   "metadata": {},
   "outputs": [],
   "source": [
    "abc_page = utils.AbcPage(\"http://www.abc.org.br/membro/alaide-braga-de-oliveira/\")"
   ]
  },
  {
   "cell_type": "code",
   "execution_count": 4,
   "metadata": {},
   "outputs": [],
   "source": [
    "abc_page.get_info()"
   ]
  },
  {
   "cell_type": "code",
   "execution_count": 5,
   "metadata": {},
   "outputs": [],
   "source": [
    "abc_page.write_wikipage()"
   ]
  },
  {
   "cell_type": "code",
   "execution_count": 5,
   "metadata": {},
   "outputs": [
    {
     "output_type": "stream",
     "name": "stdout",
     "text": [
      "Q101799149|P463|Q2497232|P580|+1977-04-19T00:00:00Z/11|S854|\"http://www.abc.org.br/membro/alaide-braga-de-oliveira/\"\nQ101799149|P569|+1941-03-10T00:00:00Z/11|S854|\"http://www.abc.org.br/membro/alaide-braga-de-oliveira/\"\nQ101799149|P1007|\"3719659803766075\"|S854|\"http://www.abc.org.br/membro/alaide-braga-de-oliveira/\"\nQ101799149|P27|Q155|S854|\"http://www.abc.org.br/membro/alaide-braga-de-oliveira/\"\n"
     ]
    }
   ],
   "source": [
    "abc_page.print_qs(\"Q101799149\")"
   ]
  },
  {
   "cell_type": "code",
   "execution_count": null,
   "metadata": {},
   "outputs": [],
   "source": [
    "import requests\n",
    "from bs4 import BeautifulSoup\n",
    "\n",
    "def get_members(url):\n",
    "    r = requests.get(url)\n",
    "    html_content = r.text\n",
    "    soup = BeautifulSoup(html_content, 'lxml')\n",
    "    links = soup.find_all('a')\n",
    "    links = [a.get('href') for a in soup.find_all('a', href=True)]\n",
    "    members = [link for link in links if \"http://www.abc.org.br/membro/\" in link]\n",
    "    \n",
    "    return(members)\n",
    "\n",
    "\n"
   ]
  },
  {
   "cell_type": "code",
   "execution_count": 5,
   "metadata": {},
   "outputs": [],
   "source": [
    "import requests\n",
    "from bs4 import BeautifulSoup\n",
    "url = 'http://www.abc.org.br/membros/?busca_membro_nome=&busca_membro_genero=Feminino&busca_membro_datanascimento_mes=&busca_membro_datanascimento_ano=&busca_membro_areapesquisa=&busca_membro_membrodesde_mes=&busca_membro_membrodesde_ano=&busca_membro_nacionalidade=&busca_membro_regiao=&busca_membro_categoria=titular'\n",
    "r = requests.get(url)\n",
    "html_content = r.text\n",
    "soup = BeautifulSoup(html_content, 'lxml')\n"
   ]
  },
  {
   "cell_type": "code",
   "execution_count": 8,
   "metadata": {},
   "outputs": [],
   "source": [
    "links = soup.find_all('a')\n",
    "links = [a.get('href') for a in soup.find_all('a', href=True)]\n"
   ]
  },
  {
   "cell_type": "code",
   "execution_count": 11,
   "metadata": {},
   "outputs": [],
   "source": [
    "members = [link for link in links if \"http://www.abc.org.br/membro/\" in link]"
   ]
  },
  {
   "cell_type": "code",
   "execution_count": 13,
   "metadata": {},
   "outputs": [
    {
     "output_type": "execute_result",
     "data": {
      "text/plain": [
       "['#content',\n",
       " 'http://www.abc.org.br',\n",
       " 'http://www.abc.org.br/fornecedores/',\n",
       " 'http://www.abc.org.br/fale-conosco/',\n",
       " 'http://www.abc.org.br/pb/membros/page/12/?busca_membro_nome&busca_membro_genero=Feminino&busca_membro_datanascimento_mes&busca_membro_datanascimento_ano&busca_membro_areapesquisa&busca_membro_membrodesde_mes&busca_membro_membrodesde_ano&busca_membro_nacionalidade&busca_membro_regiao&busca_membro_categoria=titular',\n",
       " 'http://www.abc.org.br/en/membros/page/12/?busca_membro_nome&busca_membro_genero=Feminino&busca_membro_datanascimento_mes&busca_membro_datanascimento_ano&busca_membro_areapesquisa&busca_membro_membrodesde_mes&busca_membro_membrodesde_ano&busca_membro_nacionalidade&busca_membro_regiao&busca_membro_categoria=titular',\n",
       " '#',\n",
       " '#',\n",
       " 'https://www.facebook.com/abciencias',\n",
       " 'https://twitter.com/abciencias',\n",
       " 'https://www.youtube.com/user/academiabrasciencias',\n",
       " 'https://www.instagram.com/abciencias/',\n",
       " '#',\n",
       " 'http://www.abc.org.br/a-instituicao/missao/',\n",
       " 'http://www.abc.org.br/a-instituicao/estatuto/',\n",
       " 'http://www.abc.org.br/a-instituicao/estrutura/',\n",
       " 'http://www.abc.org.br/a-instituicao/memoria/',\n",
       " 'http://www.abc.org.br/a-instituicao/premios/',\n",
       " 'http://www.abc.org.br/a-instituicao/transparencia/',\n",
       " 'http://www.abc.org.br/a-instituicao/logotipo/',\n",
       " '#',\n",
       " 'http://www.abc.org.br/membros/apresentacao/',\n",
       " 'http://www.abc.org.br/membros?busca_membro_categoria=titular',\n",
       " 'http://www.abc.org.br/membros?busca_membro_categoria=afiliado',\n",
       " 'http://www.abc.org.br/membros?busca_membro_categoria=correspondente',\n",
       " 'http://www.abc.org.br/membros?busca_membro_categoria=associado',\n",
       " 'http://www.abc.org.br/membros?busca_membro_categoria=colaborador',\n",
       " 'http://www.abc.org.br/membros/institucionais/',\n",
       " 'http://www.abc.org.br/membros/eleicoes/',\n",
       " '#',\n",
       " 'http://www.abc.org.br/atuacao/nacional/',\n",
       " 'http://www.abc.org.br/atuacao/internacional/',\n",
       " 'http://www.abc.org.br/noticias/',\n",
       " 'http://www.abc.org.br/noticias/politicas-de-ctie/',\n",
       " 'http://www.abc.org.br/noticias/busca-noticias/?busca_noticias_categoria=atuacao-da-abc',\n",
       " 'http://www.abc.org.br/noticias/busca-noticias/?busca_noticias_categoria=os-academicos',\n",
       " 'http://www.abc.org.br/noticias/busca-noticias/?busca_noticias_categoria=divulgacao-cientifica',\n",
       " 'http://www.abc.org.br/noticias/busca-noticias/?busca_noticias_categoria=oportunidades',\n",
       " 'http://www.abc.org.br/noticias',\n",
       " 'http://www.abc.org.br/agenda/',\n",
       " '#',\n",
       " 'http://www.abc.org.br/publicacoes/?&tipo_publicacao=estudos-estrategicos',\n",
       " 'http://www.abc.org.br/publicacoes/?&tipo_publicacao=documentos',\n",
       " 'http://www.abc.org.br/publicacoes/periodicos/anais-da-abc/',\n",
       " 'http://www.abc.org.br/publicacoes/?tipo_publicacao=periodicos',\n",
       " 'http://www.abc.org.br/publicacoes/?tipo_publicacao=centenario',\n",
       " 'http://www.abc.org.br',\n",
       " 'http://www.abc.org.br/membros/',\n",
       " 'http://www.abc.org.br/membros/?busca_membro_categoria=titular',\n",
       " 'https://www.facebook.com/sharer/sharer.php?u=http%3A%2F%2Fwww.abc.org.br%2Fmembros%2F',\n",
       " 'https://www.twitter.com/share?text=Veja Membros : &url=http%3A%2F%2Fwww.abc.org.br%2Fmembros%2F',\n",
       " 'javascript:window.print()',\n",
       " 'http://www.abc.org.br/membros/?busca_membro_nome&busca_membro_genero=Feminino&busca_membro_datanascimento_mes&busca_membro_datanascimento_ano&busca_membro_areapesquisa&busca_membro_membrodesde_mes&busca_membro_membrodesde_ano&busca_membro_nacionalidade&busca_membro_regiao&busca_membro_categoria=titular',\n",
       " 'http://www.abc.org.br/membros/page/10/?busca_membro_nome&busca_membro_genero=Feminino&busca_membro_datanascimento_mes&busca_membro_datanascimento_ano&busca_membro_areapesquisa&busca_membro_membrodesde_mes&busca_membro_membrodesde_ano&busca_membro_nacionalidade&busca_membro_regiao&busca_membro_categoria=titular',\n",
       " 'http://www.abc.org.br/membros/page/11/?busca_membro_nome&busca_membro_genero=Feminino&busca_membro_datanascimento_mes&busca_membro_datanascimento_ano&busca_membro_areapesquisa&busca_membro_membrodesde_mes&busca_membro_membrodesde_ano&busca_membro_nacionalidade&busca_membro_regiao&busca_membro_categoria=titular',\n",
       " 'http://www.abc.org.br/membro/vanderlan-da-silva-bolzani/',\n",
       " 'http://www.abc.org.br/membro/vera-lucia-da-silva-valente-gaiesky/',\n",
       " 'http://www.abc.org.br/membro/virginia-sampaio-teixeira-ciminelli/',\n",
       " 'http://www.abc.org.br/membro/vivian-mary-barral-dodd-rumjanek/',\n",
       " 'http://www.abc.org.br/membro/yoshiko-wakabayashi/',\n",
       " 'http://www.abc.org.br/membro/yvonne-maggie-de-leers-costa-ribeiro/',\n",
       " 'http://www.abc.org.br/membro/yvonne-primerano-mascarenhas/',\n",
       " 'http://www.abc.org.br/membros/?busca_membro_nome&busca_membro_genero=Feminino&busca_membro_datanascimento_mes&busca_membro_datanascimento_ano&busca_membro_areapesquisa&busca_membro_membrodesde_mes&busca_membro_membrodesde_ano&busca_membro_nacionalidade&busca_membro_regiao&busca_membro_categoria=titular',\n",
       " 'http://www.abc.org.br/membros/page/10/?busca_membro_nome&busca_membro_genero=Feminino&busca_membro_datanascimento_mes&busca_membro_datanascimento_ano&busca_membro_areapesquisa&busca_membro_membrodesde_mes&busca_membro_membrodesde_ano&busca_membro_nacionalidade&busca_membro_regiao&busca_membro_categoria=titular',\n",
       " 'http://www.abc.org.br/membros/page/11/?busca_membro_nome&busca_membro_genero=Feminino&busca_membro_datanascimento_mes&busca_membro_datanascimento_ano&busca_membro_areapesquisa&busca_membro_membrodesde_mes&busca_membro_membrodesde_ano&busca_membro_nacionalidade&busca_membro_regiao&busca_membro_categoria=titular',\n",
       " '#',\n",
       " 'http://www.abc.org.br/a-instituicao/missao/',\n",
       " 'http://www.abc.org.br/a-instituicao/estatuto/',\n",
       " 'http://www.abc.org.br/a-instituicao/estrutura/',\n",
       " 'http://www.abc.org.br/a-instituicao/memoria/',\n",
       " 'http://www.abc.org.br/a-instituicao/premios/',\n",
       " 'http://www.abc.org.br/a-instituicao/transparencia/',\n",
       " 'http://www.abc.org.br/a-instituicao/logotipo/',\n",
       " 'http://www.abc.org.br/membros/apresentacao/',\n",
       " 'http://www.abc.org.br/membros?busca_membro_categoria=titular',\n",
       " 'http://www.abc.org.br/membros?busca_membro_categoria=afiliado',\n",
       " 'http://www.abc.org.br/membros?busca_membro_categoria=correspondente',\n",
       " 'http://www.abc.org.br/membros?busca_membro_categoria=associado',\n",
       " 'http://www.abc.org.br/membros?busca_membro_categoria=colaborador',\n",
       " 'http://www.abc.org.br/membros/institucionais/',\n",
       " 'http://www.abc.org.br/membros/eleicoes/',\n",
       " 'http://www.abc.org.br/atuacao/nacional/',\n",
       " 'http://www.abc.org.br/atuacao/internacional/',\n",
       " 'http://www.abc.org.br/noticias/',\n",
       " 'http://www.abc.org.br/noticias/politicas-de-ctie/',\n",
       " 'http://www.abc.org.br/noticias/busca-noticias/?busca_noticias_categoria=atuacao-da-abc',\n",
       " 'http://www.abc.org.br/noticias/busca-noticias/?busca_noticias_categoria=os-academicos',\n",
       " 'http://www.abc.org.br/noticias/busca-noticias/?busca_noticias_categoria=divulgacao-cientifica',\n",
       " 'http://www.abc.org.br/noticias/busca-noticias/?busca_noticias_categoria=oportunidades',\n",
       " 'http://www.abc.org.br/noticias',\n",
       " 'http://www.abc.org.br/agenda/',\n",
       " 'http://www.abc.org.br/publicacoes/?&tipo_publicacao=estudos-estrategicos',\n",
       " 'http://www.abc.org.br/publicacoes/?&tipo_publicacao=documentos',\n",
       " 'http://www.abc.org.br/publicacoes/periodicos/anais-da-abc/',\n",
       " 'http://www.abc.org.br/publicacoes/?tipo_publicacao=periodicos',\n",
       " 'http://www.abc.org.br/publicacoes/?tipo_publicacao=centenario',\n",
       " 'http://www.abc.org.br/fornecedores/',\n",
       " 'http://www.abc.org.br/fale-conosco/',\n",
       " 'https://www.facebook.com/abciencias',\n",
       " 'https://twitter.com/abciencias',\n",
       " 'https://www.youtube.com/user/academiabrasciencias',\n",
       " 'https://www.instagram.com/abciencias/']"
      ]
     },
     "metadata": {},
     "execution_count": 13
    }
   ],
   "source": [
    "\n",
    "\n",
    "url = 'http://www.abc.org.br/membros/page/12/?busca_membro_nome&busca_membro_genero=Feminino&busca_membro_datanascimento_mes&busca_membro_datanascimento_ano&busca_membro_areapesquisa&busca_membro_membrodesde_mes&busca_membro_membrodesde_ano&busca_membro_nacionalidade&busca_membro_regiao&busca_membro_categoria=titular'\n",
    "r = requests.get(url)\n",
    "html_content = r.text\n",
    "soup = BeautifulSoup(html_content, 'lxml')\n",
    "links = soup.find_all('a')\n",
    "links = [a.get('href') for a in soup.find_all('a', href=True)]\n",
    "\n",
    "links\n"
   ]
  },
  {
   "cell_type": "code",
   "execution_count": null,
   "metadata": {},
   "outputs": [],
   "source": []
  }
 ]
}